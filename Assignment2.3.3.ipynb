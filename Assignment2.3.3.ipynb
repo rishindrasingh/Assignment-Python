{
 "cells": [
  {
   "cell_type": "code",
   "execution_count": 1,
   "metadata": {},
   "outputs": [
    {
     "name": "stdout",
     "output_type": "stream",
     "text": [
      "Enter number of words: 3\n",
      "Enter 1 word hey\n",
      "Enter 2 word hello\n",
      "Enter 3 word rishindra\n",
      "Longest word is:  rishindra\n"
     ]
    }
   ],
   "source": [
    "def longestWord(wordlist):\n",
    "    longestWord = \"\"\n",
    "    max_len = 0\n",
    "\n",
    "    for word in wordlist:\n",
    "\n",
    "        if len(word) >= max_len:\n",
    "            max_len = len(word)\n",
    "            longestWord = word\n",
    "    return longestWord\n",
    "\n",
    "my_list=[]\n",
    "\n",
    "n=int(input(\"Enter number of words: \"))\n",
    "\n",
    "for i in range(n):\n",
    "    my_list.append(input(\"Enter %d word \" % (i+1)))\n",
    "\n",
    "print(\"Longest word is: \",longestWord(my_list))\n"
   ]
  },
  {
   "cell_type": "code",
   "execution_count": null,
   "metadata": {
    "collapsed": true
   },
   "outputs": [],
   "source": []
  }
 ],
 "metadata": {
  "kernelspec": {
   "display_name": "Python 3",
   "language": "python",
   "name": "python3"
  },
  "language_info": {
   "codemirror_mode": {
    "name": "ipython",
    "version": 3
   },
   "file_extension": ".py",
   "mimetype": "text/x-python",
   "name": "python",
   "nbconvert_exporter": "python",
   "pygments_lexer": "ipython3",
   "version": "3.6.3"
  }
 },
 "nbformat": 4,
 "nbformat_minor": 2
}
