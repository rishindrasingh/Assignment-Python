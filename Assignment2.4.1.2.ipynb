{
 "cells": [
  {
   "cell_type": "code",
   "execution_count": 11,
   "metadata": {},
   "outputs": [
    {
     "name": "stdout",
     "output_type": "stream",
     "text": [
      "Enter number of words: 5\n",
      "Enter 1 word rishindra\n",
      "Enter 2 word singh\n",
      "Enter 3 word lucky\n",
      "Enter 4 word hey\n",
      "Enter 5 word hello\n",
      "Enter longest word lenght 4\n",
      "List of words greater than 4 is  ['rishindra', 'singh', 'lucky', 'hello']\n"
     ]
    }
   ],
   "source": [
    "def filter_long_words(my_list,longest_word):\n",
    "   \n",
    "    op_list=[]\n",
    "\n",
    "    for i in my_list:\n",
    "        if len(i) > longest_word:\n",
    "            op_list.append(i)\n",
    "    return op_list\n",
    "\n",
    "my_list=[]\n",
    "\n",
    "n=int(input(\"Enter number of words: \"))\n",
    "\n",
    "for i in range(n):\n",
    "    my_list.append(input(\"Enter %d word \" % (i+1)))\n",
    "    \n",
    "l_word=int(input(\"Enter longest word lenght \"))\n",
    "\n",
    "#print(my_list)\n",
    "\n",
    "print(\"List of words greater than %d is \" % l_word ,filter_long_words(my_list,l_word))"
   ]
  },
  {
   "cell_type": "code",
   "execution_count": null,
   "metadata": {
    "collapsed": true
   },
   "outputs": [],
   "source": []
  },
  {
   "cell_type": "code",
   "execution_count": null,
   "metadata": {
    "collapsed": true
   },
   "outputs": [],
   "source": []
  }
 ],
 "metadata": {
  "kernelspec": {
   "display_name": "Python 3",
   "language": "python",
   "name": "python3"
  },
  "language_info": {
   "codemirror_mode": {
    "name": "ipython",
    "version": 3
   },
   "file_extension": ".py",
   "mimetype": "text/x-python",
   "name": "python",
   "nbconvert_exporter": "python",
   "pygments_lexer": "ipython3",
   "version": "3.6.3"
  }
 },
 "nbformat": 4,
 "nbformat_minor": 2
}
