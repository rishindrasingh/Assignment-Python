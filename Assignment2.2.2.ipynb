{
 "cells": [
  {
   "cell_type": "code",
   "execution_count": 3,
   "metadata": {},
   "outputs": [
    {
     "name": "stdout",
     "output_type": "stream",
     "text": [
      "*  \r\n",
      "*  *  \r\n",
      "*  *  *  \r\n",
      "*  *  *  *  \r\n",
      "*  *  *  *  *  \r\n",
      "*  *  *  *  \r\n",
      "*  *  *  \r\n",
      "*  *  \r\n"
     ]
    }
   ],
   "source": [
    "def pypart1(n1):\n",
    "    for i in range(0, n1):\n",
    "        for j in range(0, i+1):\n",
    "            print(\"* \",end=\" \")\n",
    "     \n",
    "        print(\"\\r\")\n",
    "n1 = 5\n",
    "pypart1(n1)\n",
    "def pypart2(n2):\n",
    "    for i in range(n2, 0,-1):\n",
    "        for j in range(i+1, 0,-1):\n",
    "            print(\"* \",end=\" \")\n",
    "          \n",
    "        print(\"\\r\")\n",
    "n2 = 3\n",
    "pypart2(n2)\n"
   ]
  },
  {
   "cell_type": "code",
   "execution_count": null,
   "metadata": {
    "collapsed": true
   },
   "outputs": [],
   "source": []
  }
 ],
 "metadata": {
  "kernelspec": {
   "display_name": "Python 3",
   "language": "python",
   "name": "python3"
  },
  "language_info": {
   "codemirror_mode": {
    "name": "ipython",
    "version": 3
   },
   "file_extension": ".py",
   "mimetype": "text/x-python",
   "name": "python",
   "nbconvert_exporter": "python",
   "pygments_lexer": "ipython3",
   "version": "3.6.3"
  }
 },
 "nbformat": 4,
 "nbformat_minor": 2
}
