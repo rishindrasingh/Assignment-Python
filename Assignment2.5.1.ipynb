{
 "cells": [
  {
   "cell_type": "code",
   "execution_count": 3,
   "metadata": {},
   "outputs": [
    {
     "name": "stdout",
     "output_type": "stream",
     "text": [
      "Enter numerator4\n",
      "Enter denominator0\n",
      "Division out of bound exception\n"
     ]
    }
   ],
   "source": [
    "num=int(input(\"Enter numerator\"))\n",
    "den=int(input(\"Enter denominator\"))\n",
    "\n",
    "\n",
    "try:\n",
    "    divide=num/den\n",
    "    print(int(divide))\n",
    "except:\n",
    "    print(\"Division out of bound exception\")"
   ]
  },
  {
   "cell_type": "code",
   "execution_count": null,
   "metadata": {
    "collapsed": true
   },
   "outputs": [],
   "source": []
  }
 ],
 "metadata": {
  "kernelspec": {
   "display_name": "Python 3",
   "language": "python",
   "name": "python3"
  },
  "language_info": {
   "codemirror_mode": {
    "name": "ipython",
    "version": 3
   },
   "file_extension": ".py",
   "mimetype": "text/x-python",
   "name": "python",
   "nbconvert_exporter": "python",
   "pygments_lexer": "ipython3",
   "version": "3.6.3"
  }
 },
 "nbformat": 4,
 "nbformat_minor": 2
}
