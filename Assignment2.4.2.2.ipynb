{
 "cells": [
  {
   "cell_type": "code",
   "execution_count": 4,
   "metadata": {},
   "outputs": [
    {
     "name": "stdout",
     "output_type": "stream",
     "text": [
      "Enter character: rt\n",
      "Enter character: 3\n",
      "Enter character: tihi\n",
      "Enter character: .\n",
      "Enter character: [\n",
      "Enter character: a\n",
      "Entered character is vowel ?  True\n"
     ]
    }
   ],
   "source": [
    "def getChar():\n",
    "    inputchar=input(\"Enter character: \")\n",
    "    allowed_char='abcdefghijklmnopqrstuvwxyz'\n",
    "    while(len(inputchar) != 1 or inputchar not in allowed_char):\n",
    "        inputchar=input(\"Enter character: \")\n",
    "    return inputchar\n",
    "\n",
    "def is_vowel(char):\n",
    "    return False if 'aeiouAEIOU'.find(char) < 0 else True\n",
    "\n",
    "mychar=getChar()\n",
    "\n",
    "#print(mychar)\n",
    "print(\"Entered character is vowel ? \", is_vowel(mychar))"
   ]
  },
  {
   "cell_type": "code",
   "execution_count": null,
   "metadata": {
    "collapsed": true
   },
   "outputs": [],
   "source": []
  }
 ],
 "metadata": {
  "kernelspec": {
   "display_name": "Python 3",
   "language": "python",
   "name": "python3"
  },
  "language_info": {
   "codemirror_mode": {
    "name": "ipython",
    "version": 3
   },
   "file_extension": ".py",
   "mimetype": "text/x-python",
   "name": "python",
   "nbconvert_exporter": "python",
   "pygments_lexer": "ipython3",
   "version": "3.6.3"
  }
 },
 "nbformat": 4,
 "nbformat_minor": 2
}
