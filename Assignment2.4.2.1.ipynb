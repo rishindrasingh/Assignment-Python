{
 "cells": [
  {
   "cell_type": "code",
   "execution_count": 2,
   "metadata": {},
   "outputs": [
    {
     "name": "stdout",
     "output_type": "stream",
     "text": [
      "Enter Number of words in list 5\n",
      "Enter 1 word rishindra\n",
      "Enter 2 word singh\n",
      "Enter 3 word hey\n",
      "Enter 4 word hello\n",
      "Enter 5 word hi\n",
      "Length of the list of words are  [9, 5, 3, 5, 2]\n"
     ]
    }
   ],
   "source": [
    "def lengthoflist(inp_list):\n",
    "    len_list=[]\n",
    "    for i in inp_list:\n",
    "        len_list.append(len(i))\n",
    "    return len_list\n",
    "\n",
    "n=int(input(\"Enter Number of words in list \"))\n",
    "\n",
    "inp_list=[]\n",
    "\n",
    "for i in range(n):\n",
    "    inp_list.append(input(\"Enter %d word \" % (i+1)))\n",
    "    \n",
    "print(\"Length of the list of words are \" , lengthoflist(inp_list))"
   ]
  },
  {
   "cell_type": "code",
   "execution_count": null,
   "metadata": {
    "collapsed": true
   },
   "outputs": [],
   "source": []
  }
 ],
 "metadata": {
  "kernelspec": {
   "display_name": "Python 3",
   "language": "python",
   "name": "python3"
  },
  "language_info": {
   "codemirror_mode": {
    "name": "ipython",
    "version": 3
   },
   "file_extension": ".py",
   "mimetype": "text/x-python",
   "name": "python",
   "nbconvert_exporter": "python",
   "pygments_lexer": "ipython3",
   "version": "3.6.3"
  }
 },
 "nbformat": 4,
 "nbformat_minor": 2
}
